{
 "cells": [
  {
   "cell_type": "markdown",
   "id": "73081ecc-fe8d-4242-9f8a-7682978feef7",
   "metadata": {},
   "source": [
    "### Q1. How do you comment code in Python? What are the different types of comments?\n",
    "####\n",
    "#### Comments are mostly used for make the code more readable and understandable. It helps to explain the code. \n",
    "#### Comments are completely ignored by the python interpreter.\n",
    "#### There are two types to comment present in python.\n",
    "####    i. Single line comment \n",
    "####   ii. Multi line comment\n",
    " "
   ]
  },
  {
   "cell_type": "markdown",
   "id": "46fd5dcf-8601-47db-968d-ab21a099f18a",
   "metadata": {},
   "source": [
    "### Single Line comment:\n",
    "#### A single-line comment starts with # symbol and ends in the same line."
   ]
  },
  {
   "cell_type": "code",
   "execution_count": 1,
   "id": "6c506da8-e1a8-4f78-af08-66ce3d5cc70d",
   "metadata": {},
   "outputs": [
    {
     "name": "stdout",
     "output_type": "stream",
     "text": [
      "value of a :  10\n"
     ]
    }
   ],
   "source": [
    "# This is a variable\n",
    "a = 10\n",
    "\n",
    "# printing the value of the variable \n",
    "print('value of a : ',a)"
   ]
  },
  {
   "cell_type": "markdown",
   "id": "5a32f2ec-a9ca-4cc9-801e-3d8c08235aeb",
   "metadata": {},
   "source": [
    "### Multi line comment: \n",
    "#### To comment multiple lines in python we use triple quotes, either this  ''' or this \"\"\" in the starting of the comment and ends with respective triple quotes."
   ]
  },
  {
   "cell_type": "code",
   "execution_count": 5,
   "id": "a445a496-4c6e-47dd-b709-887b58897659",
   "metadata": {},
   "outputs": [
    {
     "name": "stdout",
     "output_type": "stream",
     "text": [
      "Pw_Skills\n"
     ]
    }
   ],
   "source": [
    "''' This is also a\n",
    "perfect example of\n",
    "multi-line comments '''\n",
    "\n",
    "print('Pw_Skills')\n",
    "\n"
   ]
  },
  {
   "cell_type": "code",
   "execution_count": null,
   "id": "c1e3242d-465d-473a-9885-8e5f9031acd9",
   "metadata": {},
   "outputs": [],
   "source": []
  },
  {
   "cell_type": "code",
   "execution_count": null,
   "id": "1a2caf93-0580-48b9-8f49-90912da65c72",
   "metadata": {},
   "outputs": [],
   "source": []
  },
  {
   "cell_type": "markdown",
   "id": "44fe94ee-d9c7-4711-b403-c1c04bab5c82",
   "metadata": {},
   "source": [
    "### Q2. What are variables in Python? How do you declare and assign values to variables?"
   ]
  },
  {
   "cell_type": "markdown",
   "id": "88d939c7-e2b1-47e5-9361-5f98d885ba5d",
   "metadata": {},
   "source": [
    "###\n",
    "#### A Python variable is a reserved memory location to store values. \n",
    "#### A variable is created the moment you first assign a value to it. Type of the variable is defined after assigning value to it.  Type can even change after they have been reassigned with different type of value.\n",
    "#### In Python everything will be considered as objects. So in other words we can say A Python variable is a symbolic name that is a reference or pointer to an object.\n",
    "####\n",
    "#### ->How do you declare and assign values to variables?\n",
    "#### First we need to specify the variable name, and then assign a value to it.   The assignment operator, denoted by the “=” symbol, which is used to assign values to variables in Python.\n",
    "#### Example   x=10"
   ]
  },
  {
   "cell_type": "code",
   "execution_count": 1,
   "id": "ca704f7d-94cc-4eb5-9417-408ebc6fe908",
   "metadata": {},
   "outputs": [
    {
     "name": "stdout",
     "output_type": "stream",
     "text": [
      "<class 'str'>  ->  Aneek\n",
      "<class 'int'>  ->  23\n"
     ]
    }
   ],
   "source": [
    "str1=\"Aneek\" # str1 is the name of the variable which stores a string \n",
    "age=23   # age is storing int value \n",
    "print(type(str1),\" -> \",str1)\n",
    "print(type(age),\" -> \",age)"
   ]
  },
  {
   "cell_type": "code",
   "execution_count": 3,
   "id": "5ce91248-2a34-4662-84ba-acf7c817ed88",
   "metadata": {},
   "outputs": [
    {
     "name": "stdout",
     "output_type": "stream",
     "text": [
      "<class 'int'>  ->  1000\n",
      "<class 'str'>  ->  Pwskills\n"
     ]
    }
   ],
   "source": [
    "# Storing int value\n",
    "a=1000\n",
    "\n",
    "print(type(a),\" -> \",a)\n",
    "\n",
    "# Reassigning variable a with str value\n",
    "a=\"Pwskills\"\n",
    "\n",
    "print(type(a),\" -> \",a)"
   ]
  },
  {
   "cell_type": "markdown",
   "id": "51c4078d-c88b-475e-af4f-5ffb2d95ff8c",
   "metadata": {},
   "source": [
    "#### Multiple Assignment"
   ]
  },
  {
   "cell_type": "code",
   "execution_count": 2,
   "id": "d1960e6b-6730-42cb-8b7e-aa8ef1b1fa2a",
   "metadata": {},
   "outputs": [
    {
     "name": "stdout",
     "output_type": "stream",
     "text": [
      "100\n",
      "100\n",
      "100\n",
      "10.0\n",
      "2j\n",
      "Pw\n"
     ]
    }
   ],
   "source": [
    "a = b = c = 100\n",
    "print(a)\n",
    "print(b)\n",
    "print(c)\n",
    "\n",
    "x,y,z = 10.0,2j,\"Pw\"\n",
    "\n",
    "print(x)\n",
    "print(y)\n",
    "print(z)\n"
   ]
  },
  {
   "cell_type": "code",
   "execution_count": null,
   "id": "b4c87b7c-a61d-4da0-92ee-03f73013c215",
   "metadata": {},
   "outputs": [],
   "source": []
  },
  {
   "cell_type": "code",
   "execution_count": null,
   "id": "8526c53c-0727-430b-a662-7927da9617cf",
   "metadata": {},
   "outputs": [],
   "source": []
  },
  {
   "cell_type": "markdown",
   "id": "052b2089-4352-4fe4-82fe-b15b515017ad",
   "metadata": {},
   "source": [
    "### Q3. How do you convert one data type to another in Python?\n",
    "#####\n",
    "#### We can convert one date type to another type by using type canversion. There are two types of type conversion in Python.Those are 1.Implicit Conversion, 2.Explicit Conversion.\n",
    "\n",
    "####\n"
   ]
  },
  {
   "cell_type": "markdown",
   "id": "a2782d6e-a70e-4307-9ce0-a22af122ab3b",
   "metadata": {},
   "source": [
    "#### Implicit Conversion(automatic type conversion): Python automatically converts one data type to another. This is known as implicit type conversion."
   ]
  },
  {
   "cell_type": "code",
   "execution_count": 8,
   "id": "e14709de-354e-4857-a657-ae2926794dd4",
   "metadata": {},
   "outputs": [
    {
     "name": "stdout",
     "output_type": "stream",
     "text": [
      "<class 'int'> -> 10\n",
      "<class 'float'> -> 20.3\n",
      "sum=  30.3\n",
      "<class 'float'> -> 30.3\n"
     ]
    }
   ],
   "source": [
    "x=10\n",
    "print(type(x),\"->\",x)\n",
    "y=20.30\n",
    "print(type(y),\"->\",y)\n",
    "z=x+y\n",
    "print('sum= ',z)\n",
    "print(type(z),\"->\",z) # after adding int and float python automatically convert z into float type"
   ]
  },
  {
   "cell_type": "markdown",
   "id": "3fd7a9e5-2da2-486a-9bca-e47d40ad249b",
   "metadata": {},
   "source": [
    "#### Explicit Conversion(manual type conversion): is use to convert the data type of an object to an another data type. We use some in built functions to perform it, like int(). float(), str() etc."
   ]
  },
  {
   "cell_type": "code",
   "execution_count": 13,
   "id": "8bc20aee-77f3-4e9d-8286-da5911507398",
   "metadata": {},
   "outputs": [
    {
     "name": "stdout",
     "output_type": "stream",
     "text": [
      "<class 'str'> -> 10\n",
      "<class 'int'> -> 10\n",
      "<class 'float'> -> 10.0\n"
     ]
    }
   ],
   "source": [
    "a='10'\n",
    "print(type(a),\"->\",a)\n",
    "b=int(a)\n",
    "print(type(b),\"->\",b)\n",
    "c=float(b)\n",
    "print(type(c),\"->\",c)"
   ]
  },
  {
   "cell_type": "code",
   "execution_count": null,
   "id": "1a9e6ffb-f2a6-4617-83a4-03aeb7b9ec90",
   "metadata": {},
   "outputs": [],
   "source": []
  },
  {
   "cell_type": "code",
   "execution_count": null,
   "id": "06f50b76-f750-42ce-821d-02014bfadd2d",
   "metadata": {},
   "outputs": [],
   "source": []
  },
  {
   "cell_type": "markdown",
   "id": "6b4ca779-aee4-4958-9628-645a05089da0",
   "metadata": {},
   "source": [
    "### Q4. How do you write and execute a Python script from the command line?"
   ]
  },
  {
   "cell_type": "markdown",
   "id": "5e4241db-e8b3-4b10-aea5-fac26c2da2ca",
   "metadata": {},
   "source": [
    "#### We can write python code through an interactive session in command line.\n",
    "#### To initiate a Python interactive session, type python in the command line and hit the ENTER key from the keyboard. But the code written in the Python interactive session is lost once it is closed."
   ]
  },
  {
   "cell_type": "code",
   "execution_count": null,
   "id": "d41d94f2-286a-48d0-9b8e-b8b57c54d3ee",
   "metadata": {},
   "outputs": [],
   "source": [
    "\n",
    "C:\\Aneek\\LENOVO>python --version\n",
    "Python 3.11.4\n",
    "\n",
    "C:\\Aneek\\LENOVO>python\n",
    "Python 3.11.4 (tags/v3.11.4:d2340ef, Jun  7 2023, 05:45:37) [MSC v.1934 64 bit (AMD64)] on win32\n",
    "Type \"help\", \"copyright\", \"credits\" or \"license\" for more information.\n",
    ">>> print(\"Hello PW\")\n",
    "Hello PW\n",
    ">>> a=10\n",
    ">>> b=20\n",
    ">>> c=a+b\n",
    ">>> print(c)\n",
    "30\n",
    ">>>"
   ]
  },
  {
   "cell_type": "markdown",
   "id": "5a162474-cbd5-4db3-a289-363f81d27d4a",
   "metadata": {},
   "source": [
    "###\n",
    "#### 1. To run the python script in the command line first we need to write a Python program is using a plain text editor, after that save the file with .py extension. \n",
    "#### 2. Then open the command line and we need to go to the specific directory using cd commend.\n",
    "#### 3. Then in the command line and type the word python followed by a space then type the file name with extension .py\n",
    "#### 4. press enter.\n",
    "#### Then the code will interpreted and run, we will see the output.\n"
   ]
  },
  {
   "cell_type": "code",
   "execution_count": null,
   "id": "26d7e9f7-a21c-46ba-a2c8-f409cf95d810",
   "metadata": {},
   "outputs": [],
   "source": [
    "\n",
    "C:\\Aneek\\LENOVO>cd..\n",
    "\n",
    "C:\\Aneek>cd..\n",
    "\n",
    "C:\\>cd code\n",
    "\n",
    "C:\\code>cd python_code\n",
    "\n",
    "C:\\code\\python_code>python test.py\n",
    "Hello Python\n",
    "Hello PW Skills\n",
    "\n",
    "C:\\code\\python_code>"
   ]
  },
  {
   "cell_type": "code",
   "execution_count": null,
   "id": "9f98bfe7-dd8f-4dde-8e34-fc5977a09fe2",
   "metadata": {},
   "outputs": [],
   "source": []
  },
  {
   "cell_type": "code",
   "execution_count": null,
   "id": "1a981c36-95a0-4fab-a180-1d60557e0f3f",
   "metadata": {},
   "outputs": [],
   "source": []
  },
  {
   "cell_type": "markdown",
   "id": "8e4ee3a9-024f-4b73-9c5a-b6094ba34278",
   "metadata": {},
   "source": [
    "### Q5. Given a list my_list = [1, 2, 3, 4, 5], write the code to slice the list and obtain the sub-list [2, 3]."
   ]
  },
  {
   "cell_type": "code",
   "execution_count": 3,
   "id": "1b881b5d-a6e7-427c-8039-6e21a8ed437c",
   "metadata": {},
   "outputs": [
    {
     "name": "stdout",
     "output_type": "stream",
     "text": [
      "[2, 3]\n"
     ]
    }
   ],
   "source": [
    "my_list=[1,2,3,4,5]\n",
    "l2=my_list[1:3]\n",
    "print(l2)"
   ]
  },
  {
   "cell_type": "code",
   "execution_count": null,
   "id": "a580acde-eac9-4e38-a376-c4c77b5e1fa8",
   "metadata": {},
   "outputs": [],
   "source": []
  },
  {
   "cell_type": "code",
   "execution_count": null,
   "id": "e74f25b7-c41b-4468-971b-02da032d786e",
   "metadata": {},
   "outputs": [],
   "source": []
  },
  {
   "cell_type": "markdown",
   "id": "c4168cf7-cfd3-42e7-b68e-56b7abb0b11f",
   "metadata": {},
   "source": [
    "### Q6. What is a complex number in mathematics, and how is it represented in Python?"
   ]
  },
  {
   "cell_type": "markdown",
   "id": "0cc3d517-53b8-4f33-8c7f-253302da8aa7",
   "metadata": {},
   "source": [
    "#### The complex number the combination of a real number and an imaginary number. The complex number is in the form of a+ib, where a = real number and ib = imaginary number. Also, a,b belongs to real numbers and i = √-1. "
   ]
  },
  {
   "cell_type": "markdown",
   "id": "6f3b5244-1598-4dc7-b2ab-8c91f01ec480",
   "metadata": {},
   "source": [
    "####\n",
    "#### In Python:\n",
    "#### Complex numbers are created from two real numbers. You can create it directly or you can use the complex function. syntax complex([real[, imag]]). \n",
    "#### It is written in the form of (x + yj) where x and y are real numbers and j is an imaginary number which is √-1."
   ]
  },
  {
   "cell_type": "code",
   "execution_count": 4,
   "id": "97bd1751-a294-429e-abd9-f1dd999413df",
   "metadata": {},
   "outputs": [
    {
     "name": "stdout",
     "output_type": "stream",
     "text": [
      "<class 'complex'> -> (10+3j)\n",
      "<class 'int'> -> 10\n",
      "<class 'complex'> -> 3j\n"
     ]
    }
   ],
   "source": [
    "x=10\n",
    "y=3j\n",
    "z=x+y\n",
    "print(type(z),\"->\",z)\n",
    "print(type(x),\"->\",x)\n",
    "print(type(y),\"->\",y)"
   ]
  },
  {
   "cell_type": "code",
   "execution_count": 6,
   "id": "7c61563a-48f7-41e9-8358-e5db19662636",
   "metadata": {},
   "outputs": [
    {
     "name": "stdout",
     "output_type": "stream",
     "text": [
      "<class 'complex'> -> (3+10j)\n"
     ]
    }
   ],
   "source": [
    "# Using complex function\n",
    "z = complex(3, 10)\n",
    "print(type(z),\"->\", z)"
   ]
  },
  {
   "cell_type": "code",
   "execution_count": null,
   "id": "4f734369-46fa-4aaa-af29-eea638a1ed3b",
   "metadata": {},
   "outputs": [],
   "source": []
  },
  {
   "cell_type": "code",
   "execution_count": null,
   "id": "e27eed14-ac96-47f1-8442-1be7f57ce062",
   "metadata": {},
   "outputs": [],
   "source": []
  },
  {
   "cell_type": "markdown",
   "id": "0f6b48c9-cd67-4a0b-8d6c-4b38fa717226",
   "metadata": {},
   "source": [
    "### Q7. What is the correct way to declare a variable named age and assign the value 25 to it?"
   ]
  },
  {
   "cell_type": "markdown",
   "id": "dac2fd88-1d4c-4b62-86fc-7f30aee842c7",
   "metadata": {},
   "source": [
    "#### Python has no command for declaring a variable. Just name the variable and assign the required value to it. The data type of the variable will be automatically determined.\n",
    "#### But there are some naming convention we should follow to declare a variables in python. Those are :\n",
    "#### 1.The first character of the variable can be an alphabet or (_) underscore.\n",
    "#### 2.Variable name cannot start with a number\n",
    "#### 3.Variable name only contain alpha neumeric value and underscore.\n",
    "#### 4.Special characters (@, #, %, ^, &, *) should not be used in variable name.\n",
    "#### 5.Variable names are case sensitive. For example - age and AGE are two different variables."
   ]
  },
  {
   "cell_type": "code",
   "execution_count": 2,
   "id": "056fefcf-1b51-42fc-854b-81dc80f8f960",
   "metadata": {},
   "outputs": [
    {
     "name": "stdout",
     "output_type": "stream",
     "text": [
      "<class 'int'> -> 25\n"
     ]
    }
   ],
   "source": [
    "age=25 # using the assignment operator '=' we are assigning 25 to variable named age.\n",
    "print(type(age),\"->\",age)"
   ]
  },
  {
   "cell_type": "code",
   "execution_count": null,
   "id": "7631c250-258a-4c75-9084-a5b5ed324fc3",
   "metadata": {},
   "outputs": [],
   "source": []
  },
  {
   "cell_type": "code",
   "execution_count": null,
   "id": "f3e65eb8-ee66-42fd-8fa6-eb81919c2a58",
   "metadata": {},
   "outputs": [],
   "source": []
  },
  {
   "cell_type": "markdown",
   "id": "bc0b5b96-bf79-4f9d-8de0-a94418a3ae07",
   "metadata": {},
   "source": [
    "### Q8. Declare a variable named price and assign the value 9.99 to it. What data type does this variable belong to?"
   ]
  },
  {
   "cell_type": "code",
   "execution_count": 8,
   "id": "811fd47f-0c22-40c4-8198-962de4edd011",
   "metadata": {},
   "outputs": [
    {
     "name": "stdout",
     "output_type": "stream",
     "text": [
      "<class 'float'> -> 9.99\n"
     ]
    }
   ],
   "source": [
    "price=9.99\n",
    "\n",
    "print(type(price),'->',price)"
   ]
  },
  {
   "cell_type": "markdown",
   "id": "a315e9c9-f3ac-4de7-b814-0c2e88e26e57",
   "metadata": {},
   "source": [
    "#### After checking the type of the variable we see it is belong to float type."
   ]
  },
  {
   "cell_type": "code",
   "execution_count": null,
   "id": "ec87b3aa-79ee-4cdb-8c81-555c0b0d7415",
   "metadata": {},
   "outputs": [],
   "source": []
  },
  {
   "cell_type": "code",
   "execution_count": null,
   "id": "9371596e-eade-4224-b7d1-64ee1cd56a73",
   "metadata": {},
   "outputs": [],
   "source": []
  },
  {
   "cell_type": "markdown",
   "id": "88dff13c-4366-4d99-920f-b67d6501fe8b",
   "metadata": {},
   "source": [
    "### Q9. Create a variable named name and assign your full name to it as a string. How would you print the value of this variable?"
   ]
  },
  {
   "cell_type": "code",
   "execution_count": 1,
   "id": "b12075e3-0d45-4550-a253-007d2b3b24a0",
   "metadata": {},
   "outputs": [
    {
     "name": "stdout",
     "output_type": "stream",
     "text": [
      "<class 'str'>\n",
      "Aneek Saha\n"
     ]
    }
   ],
   "source": [
    "name='Aneek Saha'\n",
    "print(type(name))\n",
    "print(name) # By using print() function we will print the value of the variable"
   ]
  },
  {
   "cell_type": "code",
   "execution_count": null,
   "id": "84e99340-b3ea-4f34-8491-dc658e7a7702",
   "metadata": {},
   "outputs": [],
   "source": []
  },
  {
   "cell_type": "code",
   "execution_count": null,
   "id": "c7802c8c-a146-4c10-93fc-a287b0929497",
   "metadata": {},
   "outputs": [],
   "source": []
  },
  {
   "cell_type": "markdown",
   "id": "36169444-7be4-4341-8181-09fb63ca996c",
   "metadata": {},
   "source": [
    "### Q10. Given the string \"Hello, World!\", extract the substring \"World\"."
   ]
  },
  {
   "cell_type": "code",
   "execution_count": 6,
   "id": "e8e11388-1e3a-405d-b241-8ddff6c28811",
   "metadata": {},
   "outputs": [
    {
     "name": "stdout",
     "output_type": "stream",
     "text": [
      "World\n"
     ]
    }
   ],
   "source": [
    "str1=\"Hello, World!\"\n",
    "str2=str1[7:12]\n",
    "print(str2)\n"
   ]
  },
  {
   "cell_type": "code",
   "execution_count": null,
   "id": "2a9bb03f-237b-4a0c-a022-fb9da7fbd2fb",
   "metadata": {},
   "outputs": [],
   "source": []
  },
  {
   "cell_type": "code",
   "execution_count": null,
   "id": "91863653-64a4-49ad-997a-79a226d33354",
   "metadata": {},
   "outputs": [],
   "source": []
  },
  {
   "cell_type": "markdown",
   "id": "5443260d-d30d-472e-9f36-32151f35cf64",
   "metadata": {},
   "source": [
    "### Q11. Create a variable named \"is_student\" and assign it a boolean value indicating whether you are currently a student or not."
   ]
  },
  {
   "cell_type": "code",
   "execution_count": 1,
   "id": "da65612d-5f76-4adb-b1aa-87377a6c4d56",
   "metadata": {},
   "outputs": [
    {
     "name": "stdout",
     "output_type": "stream",
     "text": [
      "You are currently a students\n"
     ]
    }
   ],
   "source": [
    "is_student=True\n",
    "if(is_student == 1):\n",
    "    print(\"You are currently a students\")\n",
    "else:\n",
    "    print(\"You are not a students\")\n",
    "    "
   ]
  },
  {
   "cell_type": "code",
   "execution_count": null,
   "id": "710713b2-e40f-4e0d-b091-6ce0c9ef32e1",
   "metadata": {},
   "outputs": [],
   "source": []
  }
 ],
 "metadata": {
  "kernelspec": {
   "display_name": "Python 3 (ipykernel)",
   "language": "python",
   "name": "python3"
  },
  "language_info": {
   "codemirror_mode": {
    "name": "ipython",
    "version": 3
   },
   "file_extension": ".py",
   "mimetype": "text/x-python",
   "name": "python",
   "nbconvert_exporter": "python",
   "pygments_lexer": "ipython3",
   "version": "3.10.8"
  }
 },
 "nbformat": 4,
 "nbformat_minor": 5
}
