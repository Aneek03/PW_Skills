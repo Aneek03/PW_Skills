{
 "cells": [
  {
   "cell_type": "markdown",
   "id": "93f6fb40-bb7e-4902-a001-80aec9f3c2c9",
   "metadata": {},
   "source": [
    "#### Q1, Create a vehicle class with an init method having instance variables as name_of_vehicle, max_speed and average_of_vehicle."
   ]
  },
  {
   "cell_type": "code",
   "execution_count": null,
   "id": "e2c4a727-3adc-48a8-9361-ef1ecbe42009",
   "metadata": {},
   "outputs": [],
   "source": [
    "class Vehicle:\n",
    "    def __init__(self,name_of_vehicle,max_speed,avarage_of_vehicle):\n",
    "        self.name_of_vehicle=name_of_vehicle\n",
    "        self.max_speed=max_speed\n",
    "        self.avarage_of_vehicle=avarage_of_vehicle\n",
    "        \n",
    "    "
   ]
  },
  {
   "cell_type": "markdown",
   "id": "ac53c72f-6033-4e90-ac7b-f9c8ecb11502",
   "metadata": {},
   "source": [
    "#### Q2. Create a child class car from the vehicle class created in Que 1, which will inherit the vehicle class. Create a method named seating_capacity which takes capacity as an argument and returns the name of the vehicle and its seating capacity."
   ]
  },
  {
   "cell_type": "code",
   "execution_count": 9,
   "id": "1476c2cc-b443-4b7f-bb91-12edf5582cbe",
   "metadata": {},
   "outputs": [],
   "source": [
    "class Car(Vehicle):\n",
    "    def seating_capacity(self,capacity):\n",
    "        return self.name_of_vehicle ,capacity"
   ]
  },
  {
   "cell_type": "code",
   "execution_count": 11,
   "id": "da298168-1b9d-497b-b370-830edb8b96c7",
   "metadata": {},
   "outputs": [],
   "source": [
    "suv=Car('Thar',140,'11 kmpl')"
   ]
  },
  {
   "cell_type": "code",
   "execution_count": 53,
   "id": "c3f5dd9f-9e8a-4086-a04f-7b1532c45fac",
   "metadata": {},
   "outputs": [
    {
     "data": {
      "text/plain": [
       "('Thar', 5)"
      ]
     },
     "execution_count": 53,
     "metadata": {},
     "output_type": "execute_result"
    }
   ],
   "source": [
    "suv.seating_capacity(5)"
   ]
  },
  {
   "cell_type": "code",
   "execution_count": null,
   "id": "37ecb886-859a-47b0-887d-97787c7502b1",
   "metadata": {},
   "outputs": [],
   "source": []
  },
  {
   "cell_type": "markdown",
   "id": "a0f45183-d885-4d62-971c-92f0922fa603",
   "metadata": {},
   "source": [
    "#### Q3. What is multiple inheritance? Write a python code to demonstrate multiple inheritance."
   ]
  },
  {
   "cell_type": "markdown",
   "id": "5bcbc9b3-335e-4d6e-8f98-d568edd87f7b",
   "metadata": {},
   "source": [
    "##### Multiple Inheritance is the process of Object Oriented Programming in which a subclass/child class can acquire the properties/features of more than one super class/ parents class. "
   ]
  },
  {
   "cell_type": "markdown",
   "id": "667113ba-37b1-459d-bbe9-9daa6ebb6c67",
   "metadata": {},
   "source": [
    "#### Example:\n",
    "##### There is class electric_vehicle which inherits the properties of both class vehicle and class electic_powered in same time."
   ]
  },
  {
   "cell_type": "code",
   "execution_count": 2,
   "id": "30a55083-199e-4b14-aad4-54804f170cb3",
   "metadata": {},
   "outputs": [
    {
     "name": "stdout",
     "output_type": "stream",
     "text": [
      "The red Tesla Model 3 is driving.\n",
      "The battery is charged to 75 kWh.\n"
     ]
    }
   ],
   "source": [
    "# Define the parent classes\n",
    "class Car:\n",
    "    def __init__(self, model, color):\n",
    "        self.model = model\n",
    "        self.color = color\n",
    "\n",
    "    def drive(self):\n",
    "        print(f\"The {self.color} {self.model} is driving.\")\n",
    "\n",
    "class ElectricVehicle:\n",
    "    def __init__(self, battery_capacity):\n",
    "        self.battery_capacity = battery_capacity\n",
    "\n",
    "    def charge(self):\n",
    "        print(f\"The battery is charged to {self.battery_capacity} kWh.\")\n",
    "\n",
    "# Define the child class that inherits from both parent classes\n",
    "class ElectricCar(Car, ElectricVehicle):\n",
    "    def __init__(self, model, color, battery_capacity):\n",
    "        # Call the constructors of both parent classes\n",
    "        Car.__init__(self, model, color)\n",
    "        ElectricVehicle.__init__(self, battery_capacity)\n",
    "\n",
    "# Create an instance of the child class\n",
    "my_car = ElectricCar(\"Tesla Model 3\", \"red\", 75)\n",
    "\n",
    "# Access the attributes and methods of both parent classes\n",
    "my_car.drive()\n",
    "my_car.charge()"
   ]
  },
  {
   "cell_type": "code",
   "execution_count": null,
   "id": "1656cef8-cdb7-44c6-815e-e702598b3c5f",
   "metadata": {},
   "outputs": [],
   "source": []
  },
  {
   "cell_type": "code",
   "execution_count": null,
   "id": "238cbe5b-1ade-4e24-98f1-263e53d504e6",
   "metadata": {},
   "outputs": [],
   "source": []
  },
  {
   "cell_type": "markdown",
   "id": "8d277bc8-9ad1-449b-8d4c-368c4e87bd7c",
   "metadata": {},
   "source": [
    "#### Q4. What are getter and setter in python? Create a class and create a getter and a setter method in this class."
   ]
  },
  {
   "cell_type": "markdown",
   "id": "c96040c9-17cd-43e4-9b94-29d1443751c8",
   "metadata": {},
   "source": [
    "#### Gatter:\n",
    "##### Getters are the method/functions which are used in Object-Oriented Programming (OOPS) to access a private attributes of a class."
   ]
  },
  {
   "cell_type": "markdown",
   "id": "b9da3950-95ab-4738-9957-8065fd357a74",
   "metadata": {},
   "source": [
    "#### Setter:\n",
    "##### Setters are the methods/functions which are used in OOPS to set/reassign the value of private attributes in a class."
   ]
  },
  {
   "cell_type": "markdown",
   "id": "bbf622a7-7033-4d3b-b1ca-351300599da3",
   "metadata": {},
   "source": [
    "#### Example:"
   ]
  },
  {
   "cell_type": "code",
   "execution_count": 11,
   "id": "5d8a508f-d16d-47a2-9bed-96a532ec2a04",
   "metadata": {},
   "outputs": [],
   "source": [
    "class car:\n",
    "    def __init__(self,company,name,type_of_car,power):\n",
    "        self.__company=company\n",
    "        self.__name=name\n",
    "        self.__type_of_car=type_of_car\n",
    "        self.__power=power\n",
    "    # setter function\n",
    "    def set_type_and_power(self,setType,setPower):\n",
    "        self.__type_of_car=setType\n",
    "        self.__power=setPower\n",
    "        \n",
    "        \n",
    "    # getter function    \n",
    "    def get_car_details(self):\n",
    "        return self.__company,self.__name, self.__type_of_car, self.__power\n",
    "    "
   ]
  },
  {
   "cell_type": "code",
   "execution_count": 6,
   "id": "c7de23d1-578d-4b7a-b02b-fc95684af1c2",
   "metadata": {},
   "outputs": [],
   "source": [
    "newCar=car('Tata','Nexon','Petrol','1199 CC')"
   ]
  },
  {
   "cell_type": "code",
   "execution_count": 7,
   "id": "60dd3c38-30d1-4ffd-b84e-465598f19b9b",
   "metadata": {},
   "outputs": [
    {
     "data": {
      "text/plain": [
       "('Tata', 'Nexon', 'Petrol', '1199 CC')"
      ]
     },
     "execution_count": 7,
     "metadata": {},
     "output_type": "execute_result"
    }
   ],
   "source": [
    "newCar.get_car_details()"
   ]
  },
  {
   "cell_type": "code",
   "execution_count": 8,
   "id": "f21e245e-837d-4e1e-a435-f514cd24c06b",
   "metadata": {},
   "outputs": [],
   "source": [
    "newCar.set_type_and_power('Battery','30.2 kWh')"
   ]
  },
  {
   "cell_type": "code",
   "execution_count": 9,
   "id": "8761132a-ee85-444d-9068-18e2e66f2a72",
   "metadata": {},
   "outputs": [
    {
     "data": {
      "text/plain": [
       "('Tata', 'Nexon', 'Battery', '30.2 kWh')"
      ]
     },
     "execution_count": 9,
     "metadata": {},
     "output_type": "execute_result"
    }
   ],
   "source": [
    "newCar.get_car_details()"
   ]
  },
  {
   "cell_type": "code",
   "execution_count": null,
   "id": "983a72ec-08df-4fe8-9730-b38c8190b588",
   "metadata": {},
   "outputs": [],
   "source": []
  },
  {
   "cell_type": "markdown",
   "id": "de5e9c66-212e-4b8f-902e-8f3ca45e541c",
   "metadata": {},
   "source": [
    "#### Q5.What is method overriding in python? Write a python code to demonstrate method overriding."
   ]
  },
  {
   "cell_type": "markdown",
   "id": "1f8b9966-8971-48a0-90a3-b2ff1358ba95",
   "metadata": {},
   "source": [
    "#### Method Overriding in Python is an OOPs concept, it is the process where a child class inherites the parents class and then customize a method which is provided by one of its parent class.\n",
    "##### In this case, the child class's method is called the overriding method and the parent class's method is called the overriden method.\n",
    "##### Parents class method and child class method have same name but perform different tasks."
   ]
  },
  {
   "cell_type": "code",
   "execution_count": 3,
   "id": "4467b3c2-ba3f-4af4-83c5-249c088b4111",
   "metadata": {},
   "outputs": [],
   "source": [
    "class Car:\n",
    "    def __init__(self):\n",
    "        self.speed = 60\n",
    "\n",
    "    def drive(self):\n",
    "        print(\"Driving at\", self.speed, \"km/h\")\n",
    "\n",
    "class SportsCar(Car):\n",
    "    def __init__(self):\n",
    "        super().__init__()\n",
    "        self.speed = 100\n",
    "\n",
    "    def drive(self):\n",
    "        print(\"Driving a sports car at\", self.speed, \"km/h\")\n",
    "\n"
   ]
  },
  {
   "cell_type": "code",
   "execution_count": 4,
   "id": "bb880fc4-da53-40d1-bcb6-91768e74be0c",
   "metadata": {},
   "outputs": [
    {
     "name": "stdout",
     "output_type": "stream",
     "text": [
      "Driving at 60 km/h\n",
      "Driving a sports car at 100 km/h\n"
     ]
    }
   ],
   "source": [
    "car = Car()\n",
    "car.drive()\n",
    "\n",
    "sports_car = SportsCar()\n",
    "sports_car.drive()\n"
   ]
  },
  {
   "cell_type": "code",
   "execution_count": null,
   "id": "92240fb2-f181-4597-adb5-9db11577e690",
   "metadata": {},
   "outputs": [],
   "source": []
  },
  {
   "cell_type": "code",
   "execution_count": null,
   "id": "67ba0293-faaf-416c-94bc-e12c368e0f95",
   "metadata": {},
   "outputs": [],
   "source": []
  }
 ],
 "metadata": {
  "kernelspec": {
   "display_name": "Python 3 (ipykernel)",
   "language": "python",
   "name": "python3"
  },
  "language_info": {
   "codemirror_mode": {
    "name": "ipython",
    "version": 3
   },
   "file_extension": ".py",
   "mimetype": "text/x-python",
   "name": "python",
   "nbconvert_exporter": "python",
   "pygments_lexer": "ipython3",
   "version": "3.10.8"
  }
 },
 "nbformat": 4,
 "nbformat_minor": 5
}
