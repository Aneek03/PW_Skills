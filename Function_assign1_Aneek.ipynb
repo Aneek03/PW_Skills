{
 "cells": [
  {
   "cell_type": "markdown",
   "id": "f27d6da9-2dde-4742-859b-b81eb09a5469",
   "metadata": {},
   "source": [
    "### Q1. Which keyword is used to create a function? Create a function to return a list of odd numbers in the range of 1 to 25."
   ]
  },
  {
   "cell_type": "markdown",
   "id": "e20a5411-eea1-4d56-ae57-af5e4df6a545",
   "metadata": {},
   "source": [
    "#### def keyword is to create a function."
   ]
  },
  {
   "cell_type": "code",
   "execution_count": 4,
   "id": "5e610350-2426-4f7a-8fbb-53770a397e01",
   "metadata": {},
   "outputs": [
    {
     "name": "stdout",
     "output_type": "stream",
     "text": [
      "Hello Pw\n"
     ]
    }
   ],
   "source": [
    "#Example\n",
    "def my_function():\n",
    "  print(\"Hello Pw\")\n",
    "\n",
    "my_function() #function calling "
   ]
  },
  {
   "cell_type": "code",
   "execution_count": 1,
   "id": "d2cc431e-e7a9-4611-a9f8-31f8a292097c",
   "metadata": {},
   "outputs": [],
   "source": [
    "def findOdd(n):\n",
    "    \"\"\"This function is used to a list of odd no of a given range \"\"\"\n",
    "    l1=[]\n",
    "    for i in range(1,n):\n",
    "        if(i%2==0):\n",
    "            l1.append(i)\n",
    "    return(l1)"
   ]
  },
  {
   "cell_type": "code",
   "execution_count": 2,
   "id": "5b87c851-a7af-4b27-8fe2-1de4e4a737ed",
   "metadata": {},
   "outputs": [
    {
     "data": {
      "text/plain": [
       "[2, 4, 6, 8, 10, 12, 14, 16, 18, 20, 22, 24]"
      ]
     },
     "execution_count": 2,
     "metadata": {},
     "output_type": "execute_result"
    }
   ],
   "source": [
    "findOdd(25)"
   ]
  },
  {
   "cell_type": "code",
   "execution_count": null,
   "id": "2fd913b6-1da2-4e65-8143-28c777642525",
   "metadata": {},
   "outputs": [],
   "source": []
  },
  {
   "cell_type": "code",
   "execution_count": null,
   "id": "cd957849-1978-496d-a0b7-2e79d834446d",
   "metadata": {},
   "outputs": [],
   "source": []
  },
  {
   "cell_type": "markdown",
   "id": "abb05ed2-171a-4552-b027-adf3909619d6",
   "metadata": {},
   "source": [
    "### Q2. Why *args and **kwargs is used in some functions? Create a function each for *args and **kwargs to demonstrate their use."
   ]
  },
  {
   "cell_type": "markdown",
   "id": "fe2146fd-f8f5-42f2-b39e-4c923fbf5843",
   "metadata": {},
   "source": [
    "###  *args:\n",
    "#### In Python *args is used to pass a variable number of arguments to a function.n the function, We should use an asterisk * before the parameter name to pass variable length arguments.\n",
    " #### Here passing arguments are non keyword arguments \n"
   ]
  },
  {
   "cell_type": "code",
   "execution_count": 2,
   "id": "1d3dada3-d63a-4e9e-b98e-ed91ad079278",
   "metadata": {},
   "outputs": [],
   "source": [
    "def add_fun(*no):\n",
    "    sum = 0\n",
    "    for n in no:\n",
    "        sum = sum + n\n",
    "    return sum"
   ]
  },
  {
   "cell_type": "code",
   "execution_count": 7,
   "id": "d9e0ed29-06f5-4e43-858b-efab782e94cd",
   "metadata": {},
   "outputs": [
    {
     "data": {
      "text/plain": [
       "60"
      ]
     },
     "execution_count": 7,
     "metadata": {},
     "output_type": "execute_result"
    }
   ],
   "source": [
    "add_fun(10,20,30)"
   ]
  },
  {
   "cell_type": "code",
   "execution_count": 8,
   "id": "59f79e10-d977-4cee-82a6-f91920029ff2",
   "metadata": {},
   "outputs": [
    {
     "data": {
      "text/plain": [
       "160"
      ]
     },
     "execution_count": 8,
     "metadata": {},
     "output_type": "execute_result"
    }
   ],
   "source": [
    "add_fun(10,30,50,70)"
   ]
  },
  {
   "cell_type": "code",
   "execution_count": 9,
   "id": "babf9b0b-8ce3-4d35-bb4d-d798c32080df",
   "metadata": {},
   "outputs": [
    {
     "data": {
      "text/plain": [
       "10"
      ]
     },
     "execution_count": 9,
     "metadata": {},
     "output_type": "execute_result"
    }
   ],
   "source": [
    "add_fun(10)"
   ]
  },
  {
   "cell_type": "markdown",
   "id": "f61f42e5-330f-4013-a2ca-557e909c66c6",
   "metadata": {},
   "source": [
    "#### The type of the arguments are touple."
   ]
  },
  {
   "cell_type": "code",
   "execution_count": 12,
   "id": "c0e5af0a-9b62-482f-acec-d69761046f82",
   "metadata": {},
   "outputs": [],
   "source": [
    "def fun1(*args):\n",
    "    return args"
   ]
  },
  {
   "cell_type": "code",
   "execution_count": 13,
   "id": "105209e4-48d2-44ea-ba1f-450400e2a38c",
   "metadata": {},
   "outputs": [
    {
     "data": {
      "text/plain": [
       "(1, 2, 3, 4)"
      ]
     },
     "execution_count": 13,
     "metadata": {},
     "output_type": "execute_result"
    }
   ],
   "source": [
    "fun1(1,2,3,4)"
   ]
  },
  {
   "cell_type": "code",
   "execution_count": 14,
   "id": "11126a8c-28fb-4861-8944-9ee99f97a4fe",
   "metadata": {},
   "outputs": [
    {
     "data": {
      "text/plain": [
       "tuple"
      ]
     },
     "execution_count": 14,
     "metadata": {},
     "output_type": "execute_result"
    }
   ],
   "source": [
    "type(fun1())"
   ]
  },
  {
   "cell_type": "markdown",
   "id": "02dcc751-fa71-479e-b122-1d6a511e297f",
   "metadata": {},
   "source": [
    "#### These passed arguments make tuple inside the function with same name as the parameter excluding asterisk *."
   ]
  },
  {
   "cell_type": "code",
   "execution_count": null,
   "id": "4e75485c-bd1f-455e-afd9-2cca81af6384",
   "metadata": {},
   "outputs": [],
   "source": []
  },
  {
   "cell_type": "markdown",
   "id": "b0a3d40e-46be-450d-bee1-f504533afdd6",
   "metadata": {},
   "source": [
    "### **kwargs\n",
    "#### In Python when we want to pass the variable length of keyword arguments to the function we use **kwargs.\n",
    "####  We use the double asterisk ** before the parameter name to denote this type of argument.\n",
    "#### When we want to pass a arguments in key value pair then we use **kwargs as parameter.\n"
   ]
  },
  {
   "cell_type": "code",
   "execution_count": 3,
   "id": "cee24d9e-6478-43f8-9280-e2363f0d9012",
   "metadata": {},
   "outputs": [],
   "source": [
    "def kw_fun(**kwargs):\n",
    "    for key, value in kwargs.items():\n",
    "        print(\"%s -> %s\" % (key, value))"
   ]
  },
  {
   "cell_type": "code",
   "execution_count": 4,
   "id": "a674daaa-a375-4950-a7d9-7a8f256549e4",
   "metadata": {},
   "outputs": [
    {
     "name": "stdout",
     "output_type": "stream",
     "text": [
      "a -> Aneek Saha\n",
      "b -> MCA\n"
     ]
    }
   ],
   "source": [
    "kw_fun(a='Aneek Saha',b='MCA')"
   ]
  },
  {
   "cell_type": "code",
   "execution_count": 5,
   "id": "e72ac985-58c4-4e3b-a374-a8ca18041aac",
   "metadata": {},
   "outputs": [
    {
     "name": "stdout",
     "output_type": "stream",
     "text": [
      "a -> Aneek Saha\n",
      "b -> Data Science \n",
      "c -> PW Skills\n"
     ]
    }
   ],
   "source": [
    "kw_fun(a='Aneek Saha',b='Data Science ',c='PW Skills')"
   ]
  },
  {
   "cell_type": "markdown",
   "id": "81b628e8-b1ed-4a97-bc64-4b887de3a604",
   "metadata": {},
   "source": [
    "#### The arguments are passed as a dictionary\n"
   ]
  },
  {
   "cell_type": "code",
   "execution_count": 1,
   "id": "92d4831d-0809-48ac-8acf-103fa505218e",
   "metadata": {},
   "outputs": [],
   "source": [
    "def test_kw(**kwargs):\n",
    "    return kwargs"
   ]
  },
  {
   "cell_type": "code",
   "execution_count": 2,
   "id": "90781855-1314-4517-82ce-87b695f304aa",
   "metadata": {},
   "outputs": [
    {
     "data": {
      "text/plain": [
       "dict"
      ]
     },
     "execution_count": 2,
     "metadata": {},
     "output_type": "execute_result"
    }
   ],
   "source": [
    "type(test_kw())"
   ]
  },
  {
   "cell_type": "markdown",
   "id": "df179089-5003-4b73-aacc-dfca553008aa",
   "metadata": {},
   "source": [
    "#### These arguments make a dictionary inside function with name same as the parameter excluding double asterisk"
   ]
  },
  {
   "cell_type": "code",
   "execution_count": null,
   "id": "fd0d3d73-f1ba-4fea-b02b-5f3f1013f463",
   "metadata": {},
   "outputs": [],
   "source": []
  },
  {
   "cell_type": "code",
   "execution_count": null,
   "id": "bbcb0144-5165-412e-95de-7e658cec9e8c",
   "metadata": {},
   "outputs": [],
   "source": []
  },
  {
   "cell_type": "markdown",
   "id": "5c451f8c-c10d-4196-bc1e-158089d1a46e",
   "metadata": {},
   "source": [
    "### Q3. What is an iterator in python? Name the method used to initialise the iterator object and the method used for iteration. Use these methods to print the first five elements of the given list [2, 4, 6, 8, 10, 12, 14, 16, 18, 20]. "
   ]
  },
  {
   "cell_type": "markdown",
   "id": "ef35fb1d-52ed-4f69-a9b1-44b6ae4feed3",
   "metadata": {},
   "source": [
    "\n",
    "### Iterator:\n",
    "#### An iterator in Python is an object that is used to iterate over iterable objects like lists, tuples, dicts, and sets."
   ]
  },
  {
   "cell_type": "markdown",
   "id": "a3ea60a2-6e9d-4211-9905-bd34a487fe40",
   "metadata": {},
   "source": [
    "#### -> Iter() method is used to initialize the iterator object.\n",
    "#### str is iterable . we can make iterable object to iterator using iter() fuction. iter(str) -> str_iterator"
   ]
  },
  {
   "cell_type": "markdown",
   "id": "ff10116f-3b71-4472-969b-78d67579ea08",
   "metadata": {},
   "source": [
    "#### ->next() method is used for iteration."
   ]
  },
  {
   "cell_type": "code",
   "execution_count": 3,
   "id": "b4cf2fbf-dba3-4d31-bb0a-2b03b44e970d",
   "metadata": {},
   "outputs": [
    {
     "data": {
      "text/plain": [
       "list"
      ]
     },
     "execution_count": 3,
     "metadata": {},
     "output_type": "execute_result"
    }
   ],
   "source": [
    "l=[2, 4, 6, 8, 10, 12, 14,16, 18, 20]\n",
    "type(l)"
   ]
  },
  {
   "cell_type": "code",
   "execution_count": 4,
   "id": "ea53faf5-43a9-4aae-9df9-fbd2d5dd439a",
   "metadata": {},
   "outputs": [
    {
     "data": {
      "text/plain": [
       "list_iterator"
      ]
     },
     "execution_count": 4,
     "metadata": {},
     "output_type": "execute_result"
    }
   ],
   "source": [
    "l_obj=iter(l)\n",
    "type(l_obj)"
   ]
  },
  {
   "cell_type": "code",
   "execution_count": 20,
   "id": "9fb41251-bd6a-41c5-b4de-10083fc964ef",
   "metadata": {},
   "outputs": [
    {
     "name": "stdout",
     "output_type": "stream",
     "text": [
      "2\n",
      "4\n",
      "6\n",
      "8\n",
      "10\n"
     ]
    }
   ],
   "source": [
    "print(next(l_obj))\n",
    "print(next(l_obj))\n",
    "print(next(l_obj))\n",
    "print(next(l_obj))\n",
    "print(next(l_obj))"
   ]
  },
  {
   "cell_type": "code",
   "execution_count": 9,
   "id": "269d73d4-9451-4e62-ba21-de110f85bc8e",
   "metadata": {},
   "outputs": [
    {
     "name": "stdout",
     "output_type": "stream",
     "text": [
      "2\n",
      "4\n",
      "6\n",
      "8\n",
      "10\n"
     ]
    }
   ],
   "source": [
    "l_obj2=iter(l)\n",
    "for i in range(5):\n",
    "    print(next(l_obj2))"
   ]
  },
  {
   "cell_type": "code",
   "execution_count": null,
   "id": "e42e1276-9172-44d0-8096-e97f3694c3c8",
   "metadata": {},
   "outputs": [],
   "source": []
  },
  {
   "cell_type": "markdown",
   "id": "4756276a-181c-48b8-ba8a-b93e5dca67da",
   "metadata": {},
   "source": [
    "### Q4. What is a generator function in python? Why yield keyword is used? Give an example of a generator function."
   ]
  },
  {
   "cell_type": "markdown",
   "id": "a4a6028d-f893-41a8-975e-1351ebd83742",
   "metadata": {},
   "source": [
    "#### Python generator functions are use to declare a function that behaves like a an iterator. It returns a inerrable objects. To make a generator function we need to use yield keyword inside it. "
   ]
  },
  {
   "cell_type": "markdown",
   "id": "e2f5b5eb-4f5f-4223-adfe-0ab44ed90918",
   "metadata": {},
   "source": [
    "#### Yield: The yield is similar to a return statement used for returning value or objects in python. yield keyword is used to create a generator function. "
   ]
  },
  {
   "cell_type": "code",
   "execution_count": 10,
   "id": "7c799d60-a1f6-469d-a941-ba91907c488c",
   "metadata": {},
   "outputs": [],
   "source": [
    "# Example:\n",
    "def fibo_gen(n):\n",
    "    a=0\n",
    "    b=1\n",
    "    for i in range(n):\n",
    "        yield a\n",
    "        a,b=b,a+b\n",
    "    "
   ]
  },
  {
   "cell_type": "code",
   "execution_count": 2,
   "id": "fb5eea3b-ddb1-408a-a0d4-82332b5594f0",
   "metadata": {},
   "outputs": [
    {
     "data": {
      "text/plain": [
       "<generator object fibo_gen at 0x7f070759d620>"
      ]
     },
     "execution_count": 2,
     "metadata": {},
     "output_type": "execute_result"
    }
   ],
   "source": [
    "fibo_gen(10)"
   ]
  },
  {
   "cell_type": "code",
   "execution_count": 9,
   "id": "4dfd9fc6-4dab-4f5a-86ec-d15cee31fb08",
   "metadata": {},
   "outputs": [
    {
     "name": "stdout",
     "output_type": "stream",
     "text": [
      "0\n",
      "1\n",
      "1\n",
      "2\n",
      "3\n",
      "5\n",
      "8\n",
      "13\n",
      "21\n",
      "34\n"
     ]
    }
   ],
   "source": [
    "for i in fibo_gen(10):\n",
    "    print(i)"
   ]
  },
  {
   "cell_type": "code",
   "execution_count": null,
   "id": "7bd7802b-ba23-42c7-9be6-5e05051d0bd9",
   "metadata": {},
   "outputs": [],
   "source": []
  },
  {
   "cell_type": "code",
   "execution_count": null,
   "id": "025a70e6-caff-4429-b29f-d1de1ea041b2",
   "metadata": {},
   "outputs": [],
   "source": []
  },
  {
   "cell_type": "markdown",
   "id": "34d046e3-a4ec-478c-afe8-1dba605d9439",
   "metadata": {},
   "source": [
    "### Q5. Create a generator function for prime numbers less than 1000. Use the next() method to print the first 20 prime numbers."
   ]
  },
  {
   "cell_type": "code",
   "execution_count": 11,
   "id": "33e998af-6e27-4779-a042-97d0c4eade56",
   "metadata": {},
   "outputs": [],
   "source": [
    "def find_prime(n):\n",
    "    for i in range(2,n):\n",
    "        flag=False\n",
    "        for j in range(2,i):\n",
    "            if i%j==0:\n",
    "                flag=True\n",
    "                break\n",
    "        if flag==False:\n",
    "            yield i"
   ]
  },
  {
   "cell_type": "code",
   "execution_count": 26,
   "id": "26997ade-b212-4a7e-8f30-eacd8f1f2e5a",
   "metadata": {},
   "outputs": [
    {
     "name": "stdout",
     "output_type": "stream",
     "text": [
      "2\n",
      "3\n",
      "5\n",
      "7\n",
      "11\n",
      "13\n",
      "17\n",
      "19\n",
      "23\n",
      "29\n",
      "31\n",
      "37\n",
      "41\n",
      "43\n",
      "47\n",
      "53\n",
      "59\n",
      "61\n",
      "67\n",
      "71\n"
     ]
    }
   ],
   "source": [
    "n1=find_prime(1000)\n",
    "print(next(n1))\n",
    "print(next(n1))\n",
    "print(next(n1))\n",
    "print(next(n1))\n",
    "print(next(n1))\n",
    "\n",
    "print(next(n1))\n",
    "print(next(n1))\n",
    "print(next(n1))\n",
    "print(next(n1))\n",
    "print(next(n1))\n",
    "\n",
    "print(next(n1))\n",
    "print(next(n1))\n",
    "print(next(n1))\n",
    "print(next(n1))\n",
    "print(next(n1))\n",
    "\n",
    "print(next(n1))\n",
    "print(next(n1))\n",
    "print(next(n1))\n",
    "print(next(n1))\n",
    "print(next(n1))\n",
    "\n"
   ]
  },
  {
   "cell_type": "code",
   "execution_count": 12,
   "id": "422f4d6f-b9ea-447a-95ad-78d6e932a5b0",
   "metadata": {},
   "outputs": [
    {
     "name": "stdout",
     "output_type": "stream",
     "text": [
      "2\n",
      "3\n",
      "5\n",
      "7\n",
      "11\n",
      "13\n",
      "17\n",
      "19\n",
      "23\n",
      "29\n",
      "31\n",
      "37\n",
      "41\n",
      "43\n",
      "47\n",
      "53\n",
      "59\n",
      "61\n",
      "67\n",
      "71\n"
     ]
    }
   ],
   "source": [
    "n2=find_prime(1000)\n",
    "for i in range(20):\n",
    "    print(next(n2))"
   ]
  },
  {
   "cell_type": "code",
   "execution_count": null,
   "id": "a3255134-e03d-4bd1-acc1-79904a0aafaa",
   "metadata": {},
   "outputs": [],
   "source": []
  },
  {
   "cell_type": "code",
   "execution_count": null,
   "id": "bacad7c4-ae75-4671-9393-5e9492878535",
   "metadata": {},
   "outputs": [],
   "source": []
  },
  {
   "cell_type": "markdown",
   "id": "e13325b4-86e3-404d-b410-cf58b9b968c3",
   "metadata": {},
   "source": [
    "### Q6. Write a python program to print the first 10 Fibonacci numbers using a while loop."
   ]
  },
  {
   "cell_type": "code",
   "execution_count": 28,
   "id": "7d7cb375-aa49-4132-ab05-58b634c221ee",
   "metadata": {},
   "outputs": [],
   "source": [
    "def fibo(n):\n",
    "    a,b=0,1\n",
    "    while True:\n",
    "        yield a\n",
    "        a,b=b,a+b\n",
    "    \n",
    "        "
   ]
  },
  {
   "cell_type": "code",
   "execution_count": 29,
   "id": "8428c2ed-4e5c-4fa1-91d5-d25373ecc506",
   "metadata": {},
   "outputs": [],
   "source": [
    "n1=fibo(10)"
   ]
  },
  {
   "cell_type": "code",
   "execution_count": 30,
   "id": "f5048093-782f-49bb-8125-1417d9e5a8c7",
   "metadata": {},
   "outputs": [
    {
     "name": "stdout",
     "output_type": "stream",
     "text": [
      "0\n",
      "1\n",
      "1\n",
      "2\n",
      "3\n",
      "5\n",
      "8\n",
      "13\n",
      "21\n",
      "34\n"
     ]
    }
   ],
   "source": [
    "for i in range(10):\n",
    "    print(next(n1))"
   ]
  },
  {
   "cell_type": "code",
   "execution_count": 32,
   "id": "98cfb1d0-c8a7-4def-a7d8-a1da697d227f",
   "metadata": {},
   "outputs": [
    {
     "name": "stdout",
     "output_type": "stream",
     "text": [
      "0\n",
      "1\n",
      "1\n",
      "2\n",
      "3\n",
      "5\n",
      "8\n",
      "13\n",
      "21\n",
      "34\n"
     ]
    }
   ],
   "source": [
    "def fibo(n):\n",
    "    a,b=0,1\n",
    "    while(n>0):\n",
    "        yield a\n",
    "        a,b=b,a+b\n",
    "        n-=1\n",
    "\n",
    "        \n",
    "        \n",
    "for i in fibo(10):\n",
    "    print(i)"
   ]
  },
  {
   "cell_type": "code",
   "execution_count": null,
   "id": "c284aa55-45b3-4357-9de6-17449ff9acaf",
   "metadata": {},
   "outputs": [],
   "source": []
  },
  {
   "cell_type": "code",
   "execution_count": null,
   "id": "014374c0-d55d-42c9-b864-8b803b0030bb",
   "metadata": {},
   "outputs": [],
   "source": []
  },
  {
   "cell_type": "markdown",
   "id": "06bea861-6fa2-4c93-8342-81865ddd850a",
   "metadata": {},
   "source": [
    "### Q7. Write a List Comprehension to iterate through the given string: ‘pwskills’.Expected output: ['p', 'w', 's', 'k', 'i', 'l', 'l', 's']"
   ]
  },
  {
   "cell_type": "code",
   "execution_count": 45,
   "id": "a2567a38-2ae5-4b8a-ab7e-08ba59361026",
   "metadata": {},
   "outputs": [
    {
     "name": "stdout",
     "output_type": "stream",
     "text": [
      "['p', 'w', 's', 'k', 'i', 'l', 'l', 's']\n"
     ]
    }
   ],
   "source": [
    "s='pwskills'\n",
    "\n",
    "newlist=[i for i in s]   # list comprehension\n",
    "\n",
    "print(newlist)"
   ]
  },
  {
   "cell_type": "code",
   "execution_count": null,
   "id": "7f77d331-b0e3-4408-9d38-a14e05c45642",
   "metadata": {},
   "outputs": [],
   "source": []
  },
  {
   "cell_type": "code",
   "execution_count": null,
   "id": "480876f0-0b93-4542-bdd1-6b4cbaca4f2a",
   "metadata": {},
   "outputs": [],
   "source": []
  },
  {
   "cell_type": "markdown",
   "id": "99709ca5-f7ea-4069-bc21-e09ed773fd70",
   "metadata": {},
   "source": [
    "### Q8. Write a python program to check whether a given number is Palindrome or not using a while loop."
   ]
  },
  {
   "cell_type": "code",
   "execution_count": 31,
   "id": "d197b499-fcf1-4d7f-ba21-2cc0e95de52b",
   "metadata": {},
   "outputs": [],
   "source": [
    "def pal(n):\n",
    "    n2=n\n",
    "    m,s=0,0\n",
    "    while(n>0):\n",
    "        m=n%10\n",
    "        s=s*10+m\n",
    "        n=n//10\n",
    "    \n",
    "    \n",
    "    if(n2==s):\n",
    "        print('It is palindrome')\n",
    "    else:\n",
    "        print('It is not palindrome')\n"
   ]
  },
  {
   "cell_type": "code",
   "execution_count": 32,
   "id": "2b8f19ea-a4ff-4305-9093-5020ada0ad95",
   "metadata": {},
   "outputs": [
    {
     "name": "stdout",
     "output_type": "stream",
     "text": [
      "It is not palindrome\n"
     ]
    }
   ],
   "source": [
    "pal(123)"
   ]
  },
  {
   "cell_type": "code",
   "execution_count": 33,
   "id": "4cbb86a5-ea63-4c8e-ade0-f6c6f01085fb",
   "metadata": {},
   "outputs": [
    {
     "name": "stdout",
     "output_type": "stream",
     "text": [
      "It is palindrome\n"
     ]
    }
   ],
   "source": [
    "pal(121)"
   ]
  },
  {
   "cell_type": "code",
   "execution_count": null,
   "id": "6d746b85-9a89-4796-ba9e-333f4e9ca07f",
   "metadata": {},
   "outputs": [],
   "source": []
  },
  {
   "cell_type": "code",
   "execution_count": null,
   "id": "ac54d94f-1d64-498d-8a3e-707018022a03",
   "metadata": {},
   "outputs": [],
   "source": []
  },
  {
   "cell_type": "markdown",
   "id": "2afad4e6-fe5a-4e4a-8aca-d571a3ca1d9d",
   "metadata": {},
   "source": [
    "### Q9. Write a code to print odd numbers from 1 to 100 using list comprehension.\n",
    "#### Note:Use a list comprehension to create a list from 1 to 100 and use another List comprehension to filter out odd numbers."
   ]
  },
  {
   "cell_type": "code",
   "execution_count": 42,
   "id": "6cb1a555-7545-47d4-8588-29801fddc3cb",
   "metadata": {},
   "outputs": [],
   "source": [
    "l1=[i for i in range(100+1)]\n",
    "\n",
    "l_iter=iter(l1)\n",
    "\n",
    "l2=[i for i in l_iter if i%2!=0]\n"
   ]
  },
  {
   "cell_type": "code",
   "execution_count": 43,
   "id": "f2051546-8c52-4f80-8cc8-69f86625b3d1",
   "metadata": {},
   "outputs": [
    {
     "name": "stdout",
     "output_type": "stream",
     "text": [
      "[0, 1, 2, 3, 4, 5, 6, 7, 8, 9, 10, 11, 12, 13, 14, 15, 16, 17, 18, 19, 20, 21, 22, 23, 24, 25, 26, 27, 28, 29, 30, 31, 32, 33, 34, 35, 36, 37, 38, 39, 40, 41, 42, 43, 44, 45, 46, 47, 48, 49, 50, 51, 52, 53, 54, 55, 56, 57, 58, 59, 60, 61, 62, 63, 64, 65, 66, 67, 68, 69, 70, 71, 72, 73, 74, 75, 76, 77, 78, 79, 80, 81, 82, 83, 84, 85, 86, 87, 88, 89, 90, 91, 92, 93, 94, 95, 96, 97, 98, 99, 100]\n"
     ]
    }
   ],
   "source": [
    "print(l1)"
   ]
  },
  {
   "cell_type": "code",
   "execution_count": 44,
   "id": "8aefd062-9979-40d0-90a9-591032a98b4a",
   "metadata": {},
   "outputs": [
    {
     "name": "stdout",
     "output_type": "stream",
     "text": [
      "[1, 3, 5, 7, 9, 11, 13, 15, 17, 19, 21, 23, 25, 27, 29, 31, 33, 35, 37, 39, 41, 43, 45, 47, 49, 51, 53, 55, 57, 59, 61, 63, 65, 67, 69, 71, 73, 75, 77, 79, 81, 83, 85, 87, 89, 91, 93, 95, 97, 99]\n"
     ]
    }
   ],
   "source": [
    "print(l2)"
   ]
  },
  {
   "cell_type": "code",
   "execution_count": null,
   "id": "24dd5dc1-0cd6-4216-b3cb-7947a7dd7567",
   "metadata": {},
   "outputs": [],
   "source": []
  }
 ],
 "metadata": {
  "kernelspec": {
   "display_name": "Python 3 (ipykernel)",
   "language": "python",
   "name": "python3"
  },
  "language_info": {
   "codemirror_mode": {
    "name": "ipython",
    "version": 3
   },
   "file_extension": ".py",
   "mimetype": "text/x-python",
   "name": "python",
   "nbconvert_exporter": "python",
   "pygments_lexer": "ipython3",
   "version": "3.10.8"
  }
 },
 "nbformat": 4,
 "nbformat_minor": 5
}
