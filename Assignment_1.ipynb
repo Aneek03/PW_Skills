{
 "cells": [
  {
   "cell_type": "markdown",
   "id": "9abdeafe-faca-466f-bb40-624f9b6c9c88",
   "metadata": {},
   "source": [
    "### Q1. Create one variable containing following type of data:\n",
    "#### (i) string\n",
    "#### (ii) list\n",
    "#### (iii) float\n",
    "#### (iv) tuple"
   ]
  },
  {
   "cell_type": "code",
   "execution_count": 1,
   "id": "2faf5d86-6907-42cf-9057-91f851f177d3",
   "metadata": {},
   "outputs": [
    {
     "name": "stdout",
     "output_type": "stream",
     "text": [
      "<class 'str'>\n"
     ]
    },
    {
     "data": {
      "text/plain": [
       "'Aneek Saha'"
      ]
     },
     "execution_count": 1,
     "metadata": {},
     "output_type": "execute_result"
    }
   ],
   "source": [
    "s1=\"Aneek Saha\"\n",
    "print(type(s1))\n",
    "s1"
   ]
  },
  {
   "cell_type": "code",
   "execution_count": 2,
   "id": "7bc8c428-87af-4db3-b0bf-086acd897190",
   "metadata": {},
   "outputs": [
    {
     "name": "stdout",
     "output_type": "stream",
     "text": [
      "<class 'list'>\n"
     ]
    },
    {
     "data": {
      "text/plain": [
       "[1, 2, 3, 'ABC', 'XYZ', 'PQR']"
      ]
     },
     "execution_count": 2,
     "metadata": {},
     "output_type": "execute_result"
    }
   ],
   "source": [
    "l1=[1,2,3,'ABC','XYZ','PQR']\n",
    "print(type(l1))\n",
    "l1"
   ]
  },
  {
   "cell_type": "code",
   "execution_count": 3,
   "id": "08addc8c-8567-4a25-8096-8d9031f60086",
   "metadata": {},
   "outputs": [
    {
     "name": "stdout",
     "output_type": "stream",
     "text": [
      "<class 'float'>\n"
     ]
    },
    {
     "data": {
      "text/plain": [
       "10.51"
      ]
     },
     "execution_count": 3,
     "metadata": {},
     "output_type": "execute_result"
    }
   ],
   "source": [
    "\n",
    "f1=10.51\n",
    "print(type(f1))\n",
    "f1"
   ]
  },
  {
   "cell_type": "code",
   "execution_count": 4,
   "id": "5186b1f5-b9f2-4dbb-84f8-57304bfa0a8b",
   "metadata": {},
   "outputs": [
    {
     "name": "stdout",
     "output_type": "stream",
     "text": [
      "<class 'tuple'>\n"
     ]
    },
    {
     "data": {
      "text/plain": [
       "('Aneek', 'PW', 'Skills')"
      ]
     },
     "execution_count": 4,
     "metadata": {},
     "output_type": "execute_result"
    }
   ],
   "source": [
    "t1=('Aneek','PW','Skills')\n",
    "print(type(t1))\n",
    "t1"
   ]
  },
  {
   "cell_type": "code",
   "execution_count": null,
   "id": "93e76422-10f0-46e4-8e18-7c35f97444e8",
   "metadata": {},
   "outputs": [],
   "source": []
  },
  {
   "cell_type": "code",
   "execution_count": null,
   "id": "85b83fc5-a1b6-4b3e-b1bb-1577f5784dec",
   "metadata": {},
   "outputs": [],
   "source": []
  },
  {
   "cell_type": "markdown",
   "id": "89f7e873-67d5-4bd8-abbb-a7227bf1dfdc",
   "metadata": {},
   "source": [
    "### Q2. Given are some following variables containing data:\n",
    "##### (i) var1 = ‘ ‘\n",
    "##### (ii) var2 = ‘[ DS , ML , Python]’\n",
    "##### (iii) var3 = [ ‘DS’ , ’ML’ , ‘Python’ ]\n",
    "##### (iv) var4 = 1.\n",
    "##### What will be the data type of the above given variable."
   ]
  },
  {
   "cell_type": "markdown",
   "id": "dc1b2721-62d9-4057-bc1d-5e8905dd876c",
   "metadata": {},
   "source": [
    "######\n",
    "### Ans:\n",
    "#### var1=' ' is containing a string, so data type is str.\n",
    "#### var2 = ‘[ DS , ML , Python]’ is containing a string, so data type is str.\n",
    "#### var3 = [ ‘DS’ , ’ML’ , ‘Python’ ] is containing a list, so data type is list.\n",
    "#### var4 = 1 is containing a integer, so data type is int.\n"
   ]
  },
  {
   "cell_type": "code",
   "execution_count": 5,
   "id": "e7b8a7e8-8859-4b72-8e56-368253d62807",
   "metadata": {},
   "outputs": [
    {
     "name": "stdout",
     "output_type": "stream",
     "text": [
      "<class 'str'>\n",
      "<class 'str'>\n",
      "<class 'list'>\n",
      "<class 'int'>\n"
     ]
    }
   ],
   "source": [
    "var1 =''\n",
    "print(type(var1))\n",
    "var2 = '[ DS , ML , Python]'\n",
    "print(type(var2))\n",
    "var3 = ['Ds','ML' ,'Python']\n",
    "print(type(var3))\n",
    "var4 = 1\n",
    "print(type(var4))"
   ]
  },
  {
   "cell_type": "code",
   "execution_count": null,
   "id": "a63446eb-f8e2-4cf0-8a5a-c26020e0b8e4",
   "metadata": {},
   "outputs": [],
   "source": []
  },
  {
   "cell_type": "code",
   "execution_count": null,
   "id": "4c155224-9f91-4430-9a2d-0b505f030449",
   "metadata": {},
   "outputs": [],
   "source": []
  },
  {
   "cell_type": "markdown",
   "id": "d73be42f-d358-4d4c-ba49-7b1016ff5516",
   "metadata": {},
   "source": [
    "### Q3. Explain the use of the following operators using an example:\n",
    "#### (i) /\n",
    "#### (ii) %\n",
    "#### (iii) //\n",
    " #### (iv) **"
   ]
  },
  {
   "cell_type": "markdown",
   "id": "f3cdb6be-01bb-406a-804f-d0d9cf7ccde8",
   "metadata": {},
   "source": [
    "#####\n",
    "### Ans:\n",
    "#### (i) / is used for division\n",
    "#### (ii) % is used to get modulus\n",
    "#### (iii) // is used for floor division\n",
    "#### (iv) ** is used to get exponentiation"
   ]
  },
  {
   "cell_type": "code",
   "execution_count": 6,
   "id": "7cf53adb-530d-47cf-9592-a767fff0aa9d",
   "metadata": {},
   "outputs": [
    {
     "name": "stdout",
     "output_type": "stream",
     "text": [
      "5.0\n",
      "1\n",
      "3\n",
      "8\n"
     ]
    }
   ],
   "source": [
    "# Example \n",
    "\n",
    "x=10\n",
    "y=2\n",
    "z=3\n",
    "print(x/y)\n",
    "\n",
    "print(x%z)\n",
    "\n",
    "print(x//z)\n",
    "\n",
    "print(y**z)"
   ]
  },
  {
   "cell_type": "code",
   "execution_count": null,
   "id": "619c9c1a-f67c-4cb4-bad9-5b5cabdcadbb",
   "metadata": {},
   "outputs": [],
   "source": []
  },
  {
   "cell_type": "code",
   "execution_count": null,
   "id": "8bbda414-6622-479c-b6ab-88a704b42371",
   "metadata": {},
   "outputs": [],
   "source": []
  },
  {
   "cell_type": "markdown",
   "id": "8bf84dda-985d-4327-9ddc-a0ece4b78c2b",
   "metadata": {},
   "source": [
    "### Q4. Create a list of length 10 of your choice containing multiple types of data. Using for loop print the element and its data type.\n"
   ]
  },
  {
   "cell_type": "code",
   "execution_count": 7,
   "id": "dc9342ff-910c-404b-9c39-eb7c50c0db44",
   "metadata": {},
   "outputs": [
    {
     "name": "stdout",
     "output_type": "stream",
     "text": [
      "<class 'int'>  ->  10\n",
      "<class 'float'>  ->  3.5\n",
      "<class 'str'>  ->  ABC\n",
      "<class 'bool'>  ->  False\n",
      "<class 'complex'>  ->  (3+2j)\n",
      "<class 'str'>  ->  Hello\n",
      "<class 'int'>  ->  100\n",
      "<class 'float'>  ->  86.7\n",
      "<class 'complex'>  ->  3j\n",
      "<class 'bool'>  ->  True\n"
     ]
    }
   ],
   "source": [
    "l1=[10,3.50,'ABC',False,3+2j,\"Hello\",100,86.7,3j,True]\n",
    "for i in l1:\n",
    "    print(type(i),\" -> \",i)"
   ]
  },
  {
   "cell_type": "code",
   "execution_count": null,
   "id": "09e76f0b-2b30-4db5-bff3-4537fe8a4b4e",
   "metadata": {},
   "outputs": [],
   "source": []
  },
  {
   "cell_type": "code",
   "execution_count": null,
   "id": "052bcf5a-2e43-4702-82c0-9e4f0aa12e8c",
   "metadata": {},
   "outputs": [],
   "source": []
  },
  {
   "cell_type": "markdown",
   "id": "196dd936-3bef-4203-bd0d-4dec3ccc5403",
   "metadata": {},
   "source": [
    "### Q5. Using a while loop, verify if the number A is purely divisible by number B and if so then how many times it can be divisible."
   ]
  },
  {
   "cell_type": "code",
   "execution_count": 17,
   "id": "6fb73c48-bc45-4ba9-826e-53e73ba711ae",
   "metadata": {},
   "outputs": [
    {
     "name": "stdin",
     "output_type": "stream",
     "text": [
      "Enter value of A:  8\n",
      "Enter value of B:  3\n"
     ]
    },
    {
     "name": "stdout",
     "output_type": "stream",
     "text": [
      "Not purely divisible\n"
     ]
    }
   ],
   "source": [
    "A=int(input('Enter value of A: '))\n",
    "B=int(input('Enter value of B: '))\n",
    "count=0\n",
    "while(A>=B):\n",
    "    if(B==0):\n",
    "        print('Wrong input')\n",
    "        break\n",
    "    elif A%B!=0:\n",
    "        print('Not purely divisible')\n",
    "        break\n",
    "    else:\n",
    "        A=A/B\n",
    "        count+=1\n",
    "if(count>0):\n",
    "    print('A is purely divisible by B ',count,' times')\n",
    "        "
   ]
  },
  {
   "cell_type": "code",
   "execution_count": 18,
   "id": "963d9c32-fffc-4dba-89d9-b8bd6098cf14",
   "metadata": {},
   "outputs": [
    {
     "name": "stdin",
     "output_type": "stream",
     "text": [
      "Enter value of A:  16\n",
      "Enter value of B:  2\n"
     ]
    },
    {
     "name": "stdout",
     "output_type": "stream",
     "text": [
      "A is purely divisible by B  4  times\n"
     ]
    }
   ],
   "source": [
    "A=int(input('Enter value of A: '))\n",
    "B=int(input('Enter value of B: '))\n",
    "count=0\n",
    "while(A>=B):\n",
    "    if(B==0):\n",
    "        print('Wrong input')\n",
    "        break\n",
    "    elif A%B!=0:\n",
    "        print('Not purely divisible')\n",
    "        break\n",
    "    else:\n",
    "        A=A/B\n",
    "        count+=1\n",
    "if(count>0):\n",
    "    print('A is purely divisible by B ',count,' times')\n",
    "        "
   ]
  },
  {
   "cell_type": "code",
   "execution_count": null,
   "id": "9aaf9786-06e0-4aa2-8ca6-2d1012b32963",
   "metadata": {},
   "outputs": [],
   "source": []
  },
  {
   "cell_type": "code",
   "execution_count": null,
   "id": "811203f9-ab5d-49ea-89bc-977eda92d355",
   "metadata": {},
   "outputs": [],
   "source": []
  },
  {
   "cell_type": "markdown",
   "id": "a8d8f0b1-6536-4e40-9827-8edc38818438",
   "metadata": {},
   "source": [
    "### Q6. Create a list containing 25 int type data. Using for loop and if-else condition print if the element is divisible by 3 or not."
   ]
  },
  {
   "cell_type": "code",
   "execution_count": 1,
   "id": "4ccd6127-0ade-4903-876a-8d95200c5700",
   "metadata": {},
   "outputs": [
    {
     "name": "stdout",
     "output_type": "stream",
     "text": [
      "2 is not divisible by 3\n",
      "5 is not divisible by 3\n",
      "9 is divisible by 3\n",
      "18 is divisible by 3\n",
      "11 is not divisible by 3\n",
      "12 is divisible by 3\n",
      "15 is divisible by 3\n",
      "18 is divisible by 3\n",
      "15 is divisible by 3\n",
      "90 is divisible by 3\n",
      "55 is not divisible by 3\n",
      "34 is not divisible by 3\n",
      "27 is divisible by 3\n",
      "111 is divisible by 3\n",
      "45 is divisible by 3\n",
      "80 is not divisible by 3\n",
      "93 is divisible by 3\n",
      "33 is divisible by 3\n",
      "22 is not divisible by 3\n",
      "49 is not divisible by 3\n",
      "35 is not divisible by 3\n",
      "77 is not divisible by 3\n",
      "46 is not divisible by 3\n",
      "99 is divisible by 3\n",
      "81 is divisible by 3\n"
     ]
    }
   ],
   "source": [
    "l=[2,5,9,18,11,12,15,18,15,90,55,34,27,111,45,80,93,33,22,49,35,77,46,99,81]\n",
    "for i in l:\n",
    "    if(i%3==0):\n",
    "        print(i,\"is divisible by 3\")\n",
    "    else:\n",
    "        print(i,\"is not divisible by 3\")"
   ]
  },
  {
   "cell_type": "code",
   "execution_count": null,
   "id": "346642bb-fcfe-4a4c-afab-daf293e88e6b",
   "metadata": {},
   "outputs": [],
   "source": []
  },
  {
   "cell_type": "markdown",
   "id": "feb540ee-3581-41c4-8121-72976c13db9e",
   "metadata": {},
   "source": []
  },
  {
   "cell_type": "markdown",
   "id": "39f0fc3e-5f5f-4826-9f37-02430cc86962",
   "metadata": {},
   "source": [
    "### Q7. What do you understand about mutable and immutable data types? Give examples for both showing this property."
   ]
  },
  {
   "cell_type": "markdown",
   "id": "0a7d6958-de7e-43d0-8c09-de392def09da",
   "metadata": {},
   "source": [
    "######\n",
    "#### Python has both mutable and immutable collection data types.\n",
    "### Mutable:\n",
    "#### Mutable objects in Python can be defined as the objects can be modified or changed after their creation. Example: Lists, Sets, Dictionaries."
   ]
  },
  {
   "cell_type": "code",
   "execution_count": 2,
   "id": "f7734805-05d9-46c3-9af8-2d149c3b5172",
   "metadata": {},
   "outputs": [
    {
     "name": "stdout",
     "output_type": "stream",
     "text": [
      "['Delhi', 'Mumbai', 'Kolkata']\n",
      "140070225796032\n",
      "['Delhi', 'Mumbai', 'Kolkata', 'Noida']\n",
      "140070225796032\n"
     ]
    }
   ],
   "source": [
    "cities = ['Delhi', 'Mumbai', 'Kolkata']\n",
    "print(cities)\n",
    "print(id(cities))\n",
    "cities.append('Noida')\n",
    "print(cities)\n",
    "print(id(cities))"
   ]
  },
  {
   "cell_type": "markdown",
   "id": "5f039543-274b-40b8-81eb-e836d19bd5ce",
   "metadata": {},
   "source": [
    "#### After appending new value to the list cities we can see the id is same, so there is no changes in storing-location. So we can tell list is mutable."
   ]
  },
  {
   "cell_type": "markdown",
   "id": "6773994f-3e23-4377-91cc-f7190342cc0d",
   "metadata": {},
   "source": [
    "#####\n",
    "### Immutable:\n",
    "#### Immutable objects in Python can be defined as the objects can not be modified or changed after their creation. These objects become permanent once created and initialized. Example: Numbers (Integer, Float, Decimal, Complex & Booleans), Strings, Tuples."
   ]
  },
  {
   "cell_type": "code",
   "execution_count": 6,
   "id": "b6ffc13d-e767-4824-a9f3-3988a31aaa7c",
   "metadata": {},
   "outputs": [
    {
     "name": "stdout",
     "output_type": "stream",
     "text": [
      "Hello\n",
      "0x7f64a40c60b0\n",
      "Hello Python\n",
      "0x7f64a40be3b0\n"
     ]
    }
   ],
   "source": [
    "str1=\"Hello\"\n",
    "print(str1)\n",
    "print(hex(id(str1)))\n",
    "\n",
    "str1+=\" Python\"\n",
    "print(str1)\n",
    "print(hex(id(str1)))"
   ]
  },
  {
   "cell_type": "markdown",
   "id": "f2abbc0b-31c6-4c2c-9b6b-6fef1a614576",
   "metadata": {},
   "source": [
    "#### Here we can see after string concatination the Python program manager created a new object in the memory address and the variable name ‘str1’ started referencing the new object with the new value 'Hello Python'."
   ]
  },
  {
   "cell_type": "code",
   "execution_count": 7,
   "id": "48e37f62-3710-41d0-ac78-5b2a3c7b85f6",
   "metadata": {},
   "outputs": [],
   "source": [
    "num=(10,20,20)"
   ]
  },
  {
   "cell_type": "code",
   "execution_count": 8,
   "id": "7b17d829-f8cc-4360-9f74-1c6ea70da3cd",
   "metadata": {},
   "outputs": [
    {
     "name": "stdout",
     "output_type": "stream",
     "text": [
      "(10, 20, 20)\n"
     ]
    }
   ],
   "source": [
    "print(num)"
   ]
  },
  {
   "cell_type": "code",
   "execution_count": 9,
   "id": "4fc9e33b-6865-410a-b12f-4b5a17afcc6b",
   "metadata": {},
   "outputs": [
    {
     "name": "stdout",
     "output_type": "stream",
     "text": [
      "20\n"
     ]
    }
   ],
   "source": [
    "print(num[2])"
   ]
  },
  {
   "cell_type": "code",
   "execution_count": 10,
   "id": "f60b3c51-6894-41b7-9bc6-4162dbbb3a0f",
   "metadata": {},
   "outputs": [
    {
     "ename": "TypeError",
     "evalue": "'tuple' object does not support item assignment",
     "output_type": "error",
     "traceback": [
      "\u001b[0;31m---------------------------------------------------------------------------\u001b[0m",
      "\u001b[0;31mTypeError\u001b[0m                                 Traceback (most recent call last)",
      "Cell \u001b[0;32mIn[10], line 1\u001b[0m\n\u001b[0;32m----> 1\u001b[0m \u001b[43mnum\u001b[49m\u001b[43m[\u001b[49m\u001b[38;5;241;43m2\u001b[39;49m\u001b[43m]\u001b[49m\u001b[38;5;241m=\u001b[39m\u001b[38;5;241m50\u001b[39m\n",
      "\u001b[0;31mTypeError\u001b[0m: 'tuple' object does not support item assignment"
     ]
    }
   ],
   "source": [
    "num[2]=50"
   ]
  },
  {
   "cell_type": "markdown",
   "id": "17397b64-47d2-49fe-a1f1-c4e3d2ee3c39",
   "metadata": {},
   "source": [
    "#### So it shows we can not reassign the idex of the touple with new value. So touple is immutable."
   ]
  },
  {
   "cell_type": "code",
   "execution_count": null,
   "id": "e7e8ddcc-61d4-42e7-986b-af3b69a7add4",
   "metadata": {},
   "outputs": [],
   "source": []
  }
 ],
 "metadata": {
  "kernelspec": {
   "display_name": "Python 3 (ipykernel)",
   "language": "python",
   "name": "python3"
  },
  "language_info": {
   "codemirror_mode": {
    "name": "ipython",
    "version": 3
   },
   "file_extension": ".py",
   "mimetype": "text/x-python",
   "name": "python",
   "nbconvert_exporter": "python",
   "pygments_lexer": "ipython3",
   "version": "3.10.8"
  }
 },
 "nbformat": 4,
 "nbformat_minor": 5
}
